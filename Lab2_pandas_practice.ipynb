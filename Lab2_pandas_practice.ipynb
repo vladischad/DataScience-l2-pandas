{
 "cells": [
  {
   "cell_type": "markdown",
   "id": "4a14bbcb",
   "metadata": {},
   "source": [
    "# Lab 2 — pandas practice -Trending Songs (5 points)\n",
    "\n",
    "In this lab, you will work through a **single pandas mini‑case** with five questions. Please:\n",
    "- Write each answer.\n",
    "- Put **each task in its own code cell**.\n",
    "- Run all code cells so that every block shows its output before exporting.\n",
    "- Export as HTML (.html) and submit that file. \n",
    "- To get all points for each question, you need to include the output of your code AND your explanation if required.\n",
    "\n",
    "---\n",
    "\n",
    "## Mini‑Case: pandas — Trending Songs\n",
    "\n",
    "**Context:** You’re helping a music streaming platform analyze a small set of **trending songs**. The dataset includes the song title, artist, release year, average critic rating, and total number of streams (in millions). The curation team wants to preview the data, check its structure, pull out subsets of interest, and add a simple “classic” flag. All operations should come from **Chapter 5** (pandas)."
   ]
  },
  {
   "cell_type": "code",
   "execution_count": null,
   "id": "e04f9a4e",
   "metadata": {},
   "outputs": [],
   "source": [
    "import pandas as pd\n",
    "\n",
    "data = {\n",
    "    'title':  ['Blinding Lights', 'Bad Guy', 'Dance Monkey', 'Peaches', 'As It Was', 'Anti-Hero', 'Levitating', 'Flowers'],\n",
    "    'artist': ['The Weeknd', 'Billie Eilish', 'Tones and I', 'Justin Bieber', 'Harry Styles', 'Taylor Swift', 'Dua Lipa', 'Miley Cyrus'],\n",
    "    'year':   [2019, 2019, 2019, 2021, 2022, 2022, 2020, 2023],\n",
    "    'rating': [9.1, 8.6, 8.0, 7.8, 8.5, 8.7, 8.4, 8.3],\n",
    "    'streams': [3600, 3200, 2800, 2100, 2600, 2500, 3000, 2700]  # in millions\n",
    "}\n",
    "\n",
    "df = pd.DataFrame(data)\n",
    "df"
   ]
  },
  {
   "cell_type": "markdown",
   "id": "dbedf88f",
   "metadata": {},
   "source": [
    "### Q1 — Preview like a playlist\n",
    "**Narrative:** Before prioritizing songs for editorial placement, the team wants a quick **top and tail** preview to eyeball entries.\n",
    "\n",
    "**Task:** Show the **first 3** rows and the **last 2** rows using head() and tail(). Hint: Display results using display()."
   ]
  },
  {
   "cell_type": "code",
   "execution_count": null,
   "id": "3c34463d",
   "metadata": {},
   "outputs": [],
   "source": [
    "# your code here"
   ]
  },
  {
   "cell_type": "markdown",
   "id": "3e9dcd91",
   "metadata": {},
   "source": [
    "### Q2 — Structural and numeric sanity checks\n",
    "**Narrative:** A quick structural and statistical scan helps catch data‑type surprises and spot outliers in ratings or streams.\n",
    "\n",
    "**Task:** Display `df.describe()`."
   ]
  },
  {
   "cell_type": "code",
   "execution_count": null,
   "id": "037ad73c",
   "metadata": {},
   "outputs": [],
   "source": [
    "# your code here"
   ]
  },
  {
   "cell_type": "markdown",
   "id": "022a3284",
   "metadata": {},
   "source": [
    "Explain the meaning of each row:\n"
   ]
  },
  {
   "cell_type": "markdown",
   "id": "57e7dff3",
   "metadata": {},
   "source": [
    "### Q3 — Column picks for editorial review\n",
    "**Narrative:** Editors often need just the titles, and sometimes titles alongside ratings for quick debates.\n",
    "\n",
    "**Task:** Select only the `title` column (Series). Then select both `title` and `rating` (DataFrame)."
   ]
  },
  {
   "cell_type": "code",
   "execution_count": null,
   "id": "99ed60d2",
   "metadata": {},
   "outputs": [],
   "source": [
    "# your code here"
   ]
  },
  {
   "cell_type": "markdown",
   "id": "ad838e56",
   "metadata": {},
   "source": [
    "### Q4 — Drill down by position vs. by label\n",
    "**Narrative:** One editor asks: “What do the first two entries look like?” (position-based). Another asks: “Show me exactly the entry with index label `3`, but only the `title` and `year`.” (label-based)\n",
    "\n",
    "**Task:** Use `.iloc` to select the **first two rows by position**; use `.loc` to fetch the **row with label 3** and those columns."
   ]
  },
  {
   "cell_type": "code",
   "execution_count": null,
   "id": "a33c136b",
   "metadata": {},
   "outputs": [],
   "source": [
    "# your code here"
   ]
  },
  {
   "cell_type": "markdown",
   "id": "e9f22051",
   "metadata": {},
   "source": [
    "### Q5 — Flag classics and sort by quality\n",
    "**Narrative:** The team wants to compare recent songs (after 2020) with older ones, but they also care about popularity (streams) as well as quality (rating). To keep it simple, you’ll build a combined score:\n",
    "score = rating * (streams / 100)\n",
    "\n",
    "This way, higher-rated movies with more votes will float to the top. Then you’ll produce two ranked lists.\n",
    "\n",
    "**Task:**\n",
    "\n",
    "Add a new column is_recent = (year > 2020).\n",
    "\n",
    "Add a new column score = rating * (streams / 100).\n",
    "\n",
    "Sort the DataFrame by score (descending).\n",
    "\n",
    "Print:\n",
    "\n",
    "The top 3 movies overall by this score.\n",
    "\n",
    "The top 2 recent songs (where is_recent == True) by this score."
   ]
  },
  {
   "cell_type": "code",
   "execution_count": null,
   "id": "dcedd538",
   "metadata": {},
   "outputs": [],
   "source": [
    "# your code here"
   ]
  }
 ],
 "metadata": {
  "kernelspec": {
   "display_name": "cs233",
   "language": "python",
   "name": "python3"
  },
  "language_info": {
   "codemirror_mode": {
    "name": "ipython",
    "version": 3
   },
   "file_extension": ".py",
   "mimetype": "text/x-python",
   "name": "python",
   "nbconvert_exporter": "python",
   "pygments_lexer": "ipython3",
   "version": "3.13.5"
  }
 },
 "nbformat": 4,
 "nbformat_minor": 5
}
